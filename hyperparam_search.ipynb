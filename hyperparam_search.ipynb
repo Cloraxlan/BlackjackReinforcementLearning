{
 "cells": [
  {
   "cell_type": "code",
   "execution_count": 5,
   "metadata": {},
   "outputs": [],
   "source": [
    "from main import play_multiple_rounds\n",
    "from agent import QLearningAgent, RandomAgent, CardCountingAgent\n",
    "from blackjack import Blackjack\n",
    "import numpy as np\n",
    "import seaborn as sns\n",
    "import matplotlib as plt\n",
    "from sklearn.model_selection import ParameterGrid\n"
   ]
  },
  {
   "cell_type": "code",
   "execution_count": 6,
   "metadata": {},
   "outputs": [],
   "source": [
    "alpha_range = np.arange(0, 1, 0.1)\n",
    "epsilon_range = np.arange(0, 1, 0.1)\n",
    "gamma_range = np.arange(0, 1, 0.1)\n",
    "\n",
    "param_grid = {'alpha': alpha_range, 'epsilon' : epsilon_range, 'gamma' : gamma_range}\n",
    "grid = ParameterGrid(param_grid)\n"
   ]
  },
  {
   "cell_type": "code",
   "execution_count": 7,
   "metadata": {},
   "outputs": [
    {
     "name": "stdout",
     "output_type": "stream",
     "text": [
      "65\n",
      "65\n",
      "61\n",
      "62\n",
      "62\n",
      "65\n",
      "62\n",
      "63\n",
      "74\n",
      "60\n",
      "68\n",
      "66\n",
      "70\n",
      "80\n",
      "69\n",
      "54\n",
      "71\n",
      "66\n",
      "62\n",
      "68\n",
      "58\n",
      "69\n",
      "74\n",
      "74\n",
      "69\n",
      "69\n",
      "64\n",
      "69\n",
      "75\n",
      "65\n",
      "62\n",
      "60\n",
      "66\n",
      "61\n",
      "67\n",
      "66\n",
      "63\n",
      "63\n",
      "61\n",
      "57\n",
      "73\n",
      "55\n",
      "63\n",
      "66\n",
      "75\n",
      "61\n",
      "65\n",
      "77\n",
      "60\n",
      "66\n",
      "66\n",
      "66\n",
      "78\n",
      "69\n",
      "62\n",
      "66\n",
      "66\n",
      "66\n",
      "64\n",
      "61\n",
      "54\n",
      "71\n",
      "55\n",
      "65\n"
     ]
    }
   ],
   "source": [
    "max_wins = float('-inf') \n",
    "for params in grid:\n",
    "    bj = Blackjack()\n",
    "    qla = QLearningAgent(params['epsilon'], params['alpha'], params['gamma'], False)\n",
    "    qla.train(bj.initial_state, bj, 10000)\n",
    "    wins = play_multiple_rounds(10, qla)\n",
    "    print(wins.count(Blackjack.GameState.WIN))\n",
    "    if wins.count(Blackjack.GameState.WIN) > max_wins:\n",
    "        best_hyperparams = params\n",
    "        max_wins = wins.count(Blackjack.GameState.WIN)\n",
    "print(best_hyperparams)"
   ]
  },
  {
   "cell_type": "code",
   "execution_count": 2,
   "metadata": {},
   "outputs": [],
   "source": [
    "from local_search_problem import Hyperparams\n",
    "from local_search import GeneticAlgorithm"
   ]
  },
  {
   "cell_type": "code",
   "execution_count": 4,
   "metadata": {},
   "outputs": [
    {
     "data": {
      "text/plain": [
       "([0.6274980173208113, 0.6927138577280906, 0.7865680040692036],\n",
       " [203, 200, 203, 201, 208, 206, 203, 202, 202])"
      ]
     },
     "execution_count": 4,
     "metadata": {},
     "output_type": "execute_result"
    }
   ],
   "source": [
    "search = GeneticAlgorithm(50, 10)\n",
    "search.run(Hyperparams(10000, False))"
   ]
  }
 ],
 "metadata": {
  "kernelspec": {
   "display_name": "Python 3",
   "language": "python",
   "name": "python3"
  },
  "language_info": {
   "codemirror_mode": {
    "name": "ipython",
    "version": 3
   },
   "file_extension": ".py",
   "mimetype": "text/x-python",
   "name": "python",
   "nbconvert_exporter": "python",
   "pygments_lexer": "ipython3",
   "version": "3.10.7"
  }
 },
 "nbformat": 4,
 "nbformat_minor": 2
}
